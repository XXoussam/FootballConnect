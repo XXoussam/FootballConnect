{
  "cells": [
    {
      "cell_type": "markdown",
      "id": "cda508b2",
      "metadata": {
        "id": "cda508b2"
      },
      "source": [
        "# Système de Recommandation des Joueurs"
      ]
    },
    {
      "cell_type": "markdown",
      "id": "6b9ba2c7",
      "metadata": {
        "id": "6b9ba2c7"
      },
      "source": [
        "\n",
        "Ce notebook présente un système de recommandation des joueurs basé sur les recherches récentes des clubs.\n",
        "Le système recommande des joueurs aux clubs en fonction de la similarité de leur position principale et de leur style de jeu.\n",
        "Les étapes suivantes sont couvertes :\n",
        "1. Chargement des données\n",
        "2. Calcul de la similarité entre les joueurs et les clubs\n",
        "3. Filtrage des joueurs en fonction des besoins des clubs\n",
        "4. Génération des recommandations pour chaque club\n"
      ]
    },
    {
      "cell_type": "markdown",
      "id": "88a0c897",
      "metadata": {
        "id": "88a0c897"
      },
      "source": [
        "## 1. Chargement des données"
      ]
    },
    {
      "cell_type": "code",
      "execution_count": 14,
      "id": "1fb9f686",
      "metadata": {
        "id": "1fb9f686"
      },
      "outputs": [],
      "source": [
        "import pandas as pd\n",
        "import numpy as np\n",
        "from sklearn.metrics.pairwise import cosine_similarity\n",
        "import os\n",
        "\n",
        "# Fonction pour charger les données\n",
        "def load_data(player_path=None, club_path=None, search_path=None):\n",
        "    player_profiles_path = player_path or '/content/cleaned_player_profiles.csv'\n",
        "    club_profiles_path = club_path or '/content/cleaned_club_profiles.csv'\n",
        "    club_search_history_path = search_path or '/content/club_search_history_with_features.csv'\n",
        "\n",
        "    try:\n",
        "        player_profiles = pd.read_csv(player_profiles_path)\n",
        "        club_profiles = pd.read_csv(club_profiles_path)\n",
        "        club_search_history = pd.read_csv(club_search_history_path)\n",
        "    except FileNotFoundError as e:\n",
        "        raise FileNotFoundError(f\"Error loading data: {e}\")\n",
        "\n",
        "    return player_profiles, club_profiles, club_search_history\n"
      ]
    },
    {
      "cell_type": "markdown",
      "id": "d682ab95",
      "metadata": {
        "id": "d682ab95"
      },
      "source": [
        "## 2. Prétraitement des données"
      ]
    },
    {
      "cell_type": "code",
      "execution_count": 15,
      "id": "8f9ef810",
      "metadata": {
        "id": "8f9ef810"
      },
      "outputs": [],
      "source": [
        "# Fonction de conversion de vecteur de style de jeu en liste\n",
        "def convert_to_array(vector_str):\n",
        "    try:\n",
        "        cleaned = vector_str.strip('[]').replace(',', ' ')\n",
        "        return np.array([int(x) for x in cleaned.split() if x.strip().isdigit()])\n",
        "    except Exception as e:\n",
        "        print(f\"Conversion error for vector: {vector_str} -> {e}\")\n",
        "        return np.array([])\n",
        "\n",
        "# Appliquer cette fonction aux colonnes de vecteurs de style de jeu\n",
        "def preprocess_data(player_profiles, club_profiles):\n",
        "    player_profiles['play_style_vector'] = player_profiles['play_style_vector'].apply(convert_to_array)\n",
        "    club_profiles['style_of_play'] = club_profiles['style_of_play'].apply(convert_to_array)\n",
        "    return player_profiles, club_profiles\n"
      ]
    },
    {
      "cell_type": "markdown",
      "id": "2acf6077",
      "metadata": {
        "id": "2acf6077"
      },
      "source": [
        "## 3. Calcul de la similarité"
      ]
    },
    {
      "cell_type": "code",
      "execution_count": 16,
      "id": "4e3bf7f2",
      "metadata": {
        "id": "4e3bf7f2"
      },
      "outputs": [],
      "source": [
        "\n",
        "from sklearn.metrics.pairwise import cosine_similarity\n",
        "import numpy as np\n",
        "\n",
        "# Calcul de la similarité entre un joueur et un club\n",
        "def calculate_similarity(player, club, position_weight=0.5, style_weight=0.5):\n",
        "    # Sécurité : garantir que les vecteurs ne sont pas vides\n",
        "    if len(player['play_style_vector']) == 0 or len(club['style_of_play']) == 0:\n",
        "        style_similarity = 0\n",
        "    else:\n",
        "        style_similarity = cosine_similarity(\n",
        "            [player['play_style_vector']],\n",
        "            [club['style_of_play']]\n",
        "        )[0][0]\n",
        "\n",
        "    # S'assurer que 'needs_position' est bien une liste\n",
        "    needs_position = club['needs_position']\n",
        "    if isinstance(needs_position, str):\n",
        "        needs_position = needs_position.strip(\"[]\").replace(\"'\", \"\").split(',')\n",
        "\n",
        "    needs_position = [pos.strip().lower() for pos in needs_position]\n",
        "    player_position = player['position_main'].strip().lower()\n",
        "\n",
        "    position_similarity = 1 if player_position in needs_position else 0\n",
        "\n",
        "    # Moyenne pondérée\n",
        "    return position_weight * position_similarity + style_weight * style_similarity\n"
      ]
    },
    {
      "cell_type": "markdown",
      "id": "7c542f7f",
      "metadata": {
        "id": "7c542f7f"
      },
      "source": [
        "## 4. Filtrage des joueurs"
      ]
    },
    {
      "cell_type": "code",
      "execution_count": 17,
      "id": "f21a134c",
      "metadata": {
        "id": "f21a134c"
      },
      "outputs": [],
      "source": [
        "# Filtrer les joueurs en fonction de la position et du style de jeu\n",
        "def filter_players_by_profile(club, player_profiles):\n",
        "    # Nettoyer le champ 'needs_position' s'il est sous forme de chaîne\n",
        "    needs_position = club['needs_position']\n",
        "    if isinstance(needs_position, str):\n",
        "        needs_position = needs_position.strip(\"[]\").replace(\"'\", \"\").split(',')\n",
        "\n",
        "    needs_position = [pos.strip().lower() for pos in needs_position]\n",
        "\n",
        "    # Filtrage par position\n",
        "    filtered_players = player_profiles[player_profiles['position_main'].str.lower().isin(needs_position)].copy()\n",
        "\n",
        "    # Calcul de la similarité de style avec gestion des erreurs\n",
        "    def safe_similarity(player_vector):\n",
        "        if len(player_vector) == 0 or len(club['style_of_play']) == 0:\n",
        "            return 0\n",
        "        return cosine_similarity([player_vector], [club['style_of_play']])[0][0]\n",
        "\n",
        "    filtered_players['style_similarity'] = filtered_players['play_style_vector'].apply(safe_similarity)\n",
        "\n",
        "    # Trier et sélectionner les 50 meilleurs\n",
        "    top_players = filtered_players.sort_values(by='style_similarity', ascending=False).head(50)\n",
        "\n",
        "    return top_players\n"
      ]
    },
    {
      "cell_type": "markdown",
      "id": "8d9322ff",
      "metadata": {
        "id": "8d9322ff"
      },
      "source": [
        "## 5. Génération des recommandations"
      ]
    },
    {
      "cell_type": "code",
      "execution_count": 19,
      "id": "19791c3a",
      "metadata": {
        "colab": {
          "base_uri": "https://localhost:8080/"
        },
        "id": "19791c3a",
        "outputId": "19dec50e-a22a-4934-c69b-af113cb874af"
      },
      "outputs": [
        {
          "output_type": "stream",
          "name": "stdout",
          "text": [
            "   club_id    club_name  player_id              player_name  similarity\n",
            "0     2001  Real Madrid      15274           Darren Oldaker    0.887298\n",
            "1     2001  Real Madrid       5902             Nahuel Leiva    0.887298\n",
            "2     2001  Real Madrid        970           Nabil Bentaleb    0.887298\n",
            "3     2001  Real Madrid       1525            Adnan Januzaj    0.887298\n",
            "4     2001  Real Madrid      10108            Michael Duffy    0.816228\n",
            "5     2001  Real Madrid       1888            Morgan Rogers    0.816228\n",
            "6     2001  Real Madrid       2318           Mohamed Daramy    0.816228\n",
            "7     2001  Real Madrid       9009  Gustav Mendonca Wikheim    0.816228\n",
            "8     2001  Real Madrid       5037           Juninho Bacuna    0.816228\n",
            "9     2001  Real Madrid        222          Mattia Zaccagni    0.816228\n"
          ]
        }
      ],
      "source": [
        "# Fonction pour recommander des joueurs à un club en fonction de ses recherches\n",
        "def recommend_players_to_club_filtered(club_id, club_search_history, player_profiles, club_profiles):\n",
        "    club_searches = club_search_history[club_search_history['club_id'] == club_id]\n",
        "\n",
        "    if club_profiles[club_profiles['club_id'] == club_id].empty:\n",
        "        print(f\"Club ID {club_id} not found.\")\n",
        "        return pd.DataFrame()\n",
        "\n",
        "    club = club_profiles[club_profiles['club_id'] == club_id].iloc[0]\n",
        "\n",
        "    recommendations = []\n",
        "    recommended_player_ids = set()\n",
        "\n",
        "    for _, search in club_searches.iterrows():\n",
        "        player_id = search['player_id']\n",
        "        player_match = player_profiles[player_profiles['player_id'] == player_id]\n",
        "        if player_match.empty:\n",
        "            continue\n",
        "        player = player_match.iloc[0]\n",
        "\n",
        "        filtered_players = filter_players_by_profile(club, player_profiles)\n",
        "\n",
        "        for _, other_player in filtered_players.iterrows():\n",
        "            pid = other_player['player_id']\n",
        "            if pid != player_id and pid not in recommended_player_ids:\n",
        "                similarity = calculate_similarity(other_player, club)\n",
        "                recommendations.append({\n",
        "                    'club_id': club_id,\n",
        "                    'club_name': club.get('club_name', 'N/A'),\n",
        "                    'player_id': pid,\n",
        "                    'player_name': other_player.get('name', 'N/A'),\n",
        "                    'similarity': similarity\n",
        "                })\n",
        "                recommended_player_ids.add(pid)\n",
        "\n",
        "    recommendations_df = pd.DataFrame(recommendations)\n",
        "    recommendations_df = recommendations_df.sort_values(by='similarity', ascending=False)\n",
        "\n",
        "    return recommendations_df.head(10)\n",
        "\n",
        "\n",
        "# Exemple d'utilisation\n",
        "def main():\n",
        "    player_profiles, club_profiles, club_search_history = load_data()\n",
        "    player_profiles, club_profiles = preprocess_data(player_profiles, club_profiles)\n",
        "\n",
        "    if not club_profiles.empty:\n",
        "        club_id_example = club_profiles.iloc[0]['club_id']\n",
        "        recommended_players_filtered = recommend_players_to_club_filtered(\n",
        "            club_id_example, club_search_history, player_profiles, club_profiles\n",
        "        )\n",
        "        print(recommended_players_filtered)\n",
        "    else:\n",
        "        print(\"No clubs loaded.\")\n",
        "\n",
        "# Lancer l'exemple\n",
        "main()\n",
        "\n"
      ]
    }
  ],
  "metadata": {
    "colab": {
      "provenance": []
    },
    "language_info": {
      "name": "python"
    },
    "kernelspec": {
      "name": "python3",
      "display_name": "Python 3"
    }
  },
  "nbformat": 4,
  "nbformat_minor": 5
}